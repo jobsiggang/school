{
  "nbformat": 4,
  "nbformat_minor": 0,
  "metadata": {
    "colab": {
      "name": "tensor.ipynb",
      "provenance": [],
      "collapsed_sections": [],
      "authorship_tag": "ABX9TyORLzdCV4+8FLQGUQVIN79U",
      "include_colab_link": true
    },
    "kernelspec": {
      "name": "python3",
      "display_name": "Python 3"
    },
    "language_info": {
      "name": "python"
    }
  },
  "cells": [
    {
      "cell_type": "markdown",
      "metadata": {
        "id": "view-in-github",
        "colab_type": "text"
      },
      "source": [
        "<a href=\"https://colab.research.google.com/github/jobsiggang/school/blob/main/tensor.ipynb\" target=\"_parent\"><img src=\"https://colab.research.google.com/assets/colab-badge.svg\" alt=\"Open In Colab\"/></a>"
      ]
    },
    {
      "cell_type": "markdown",
      "metadata": {
        "id": "kj4dkRMYjnU-"
      },
      "source": [
        "# **텐서플로우를 이용한 딥러닝**"
      ]
    },
    {
      "cell_type": "code",
      "metadata": {
        "id": "80YYoU7NkguF"
      },
      "source": [
        "(a1,a2),(b1,b2)=[([3,4],[30,40]),([6,7],[60,70])]"
      ],
      "execution_count": 3,
      "outputs": []
    },
    {
      "cell_type": "code",
      "metadata": {
        "id": "gXr1nKpgpoPj"
      },
      "source": [
        "print(a1,a2,b1,b2)"
      ],
      "execution_count": null,
      "outputs": []
    },
    {
      "cell_type": "code",
      "metadata": {
        "id": "ORZz6cTCpsLk"
      },
      "source": [
        "type(a1)"
      ],
      "execution_count": null,
      "outputs": []
    },
    {
      "cell_type": "markdown",
      "metadata": {
        "id": "cOZENeG8Iji7"
      },
      "source": [
        "# 데이터셋 준비 => 모델생성 => 학습 => 예측"
      ]
    },
    {
      "cell_type": "code",
      "metadata": {
        "id": "_oqQsbXujlpt"
      },
      "source": [
        "#tensorflow 와 tf.keras를 임포트\n",
        "import tensorflow as tf\n",
        "from tensorflow import keras\n",
        "import numpy as np\n",
        "import matplotlib.pyplot as plt\n"
      ],
      "execution_count": 6,
      "outputs": []
    },
    {
      "cell_type": "code",
      "metadata": {
        "id": "YrHShacpkUNx",
        "colab": {
          "base_uri": "https://localhost:8080/",
          "height": 0
        },
        "outputId": "65eb1a54-12c9-4cf5-d155-dc15b9678aa5"
      },
      "source": [
        "#패션MNIST 데이터는 keras의 데이터셋에 있는 이를 읽어와서 학습용, 테스트 데이터로 구분\n",
        "fashion_mnist = keras.datasets.fashion_mnist\n",
        "print(dir(fashion_mnist))\n",
        "(train_images, train_labels),(test_images, test_labels) =fashion_mnist.load_data()\n"
      ],
      "execution_count": 7,
      "outputs": [
        {
          "output_type": "stream",
          "text": [
            "['__builtins__', '__cached__', '__doc__', '__file__', '__loader__', '__name__', '__package__', '__path__', '__spec__', '_sys', 'load_data']\n",
            "Downloading data from https://storage.googleapis.com/tensorflow/tf-keras-datasets/train-labels-idx1-ubyte.gz\n",
            "32768/29515 [=================================] - 0s 0us/step\n",
            "Downloading data from https://storage.googleapis.com/tensorflow/tf-keras-datasets/train-images-idx3-ubyte.gz\n",
            "26427392/26421880 [==============================] - 0s 0us/step\n",
            "Downloading data from https://storage.googleapis.com/tensorflow/tf-keras-datasets/t10k-labels-idx1-ubyte.gz\n",
            "8192/5148 [===============================================] - 0s 0us/step\n",
            "Downloading data from https://storage.googleapis.com/tensorflow/tf-keras-datasets/t10k-images-idx3-ubyte.gz\n",
            "4423680/4422102 [==============================] - 0s 0us/step\n"
          ],
          "name": "stdout"
        }
      ]
    },
    {
      "cell_type": "code",
      "metadata": {
        "id": "7aYINJV3lA9y"
      },
      "source": [
        "train_images.shape # 28*28픽셀크기의 60000 이미지 데이터"
      ],
      "execution_count": null,
      "outputs": []
    },
    {
      "cell_type": "code",
      "metadata": {
        "id": "dwwSFAiDlZiv"
      },
      "source": [
        "train_labels.shape #60000개의 라벨"
      ],
      "execution_count": null,
      "outputs": []
    },
    {
      "cell_type": "code",
      "metadata": {
        "id": "JK0tDtLMJvD0"
      },
      "source": [
        "#@title\n",
        "train_images[0].shape # 이미지 1개의 크기는 28*28픽셀"
      ],
      "execution_count": null,
      "outputs": []
    },
    {
      "cell_type": "code",
      "metadata": {
        "id": "uDVDMKIpK8H_"
      },
      "source": [
        ""
      ],
      "execution_count": 10,
      "outputs": []
    },
    {
      "cell_type": "code",
      "metadata": {
        "id": "mRZQ73fdoK3e",
        "colab": {
          "base_uri": "https://localhost:8080/",
          "height": 0
        },
        "outputId": "43930388-9db0-462d-f805-a74df3745794"
      },
      "source": [
        "test_labels.shape"
      ],
      "execution_count": 11,
      "outputs": [
        {
          "output_type": "execute_result",
          "data": {
            "text/plain": [
              "(10000,)"
            ]
          },
          "metadata": {
            "tags": []
          },
          "execution_count": 11
        }
      ]
    },
    {
      "cell_type": "code",
      "metadata": {
        "id": "syPq3m-clfnv",
        "colab": {
          "base_uri": "https://localhost:8080/",
          "height": 0
        },
        "outputId": "dc23b824-bf7a-47e1-c697-494a4b121b51"
      },
      "source": [
        "train_labels[:5]  #훈련용 데이텅의 5개의 레이블 확인 (0~9까지 10까지 종류)"
      ],
      "execution_count": 12,
      "outputs": [
        {
          "output_type": "execute_result",
          "data": {
            "text/plain": [
              "array([9, 0, 0, 3, 0], dtype=uint8)"
            ]
          },
          "metadata": {
            "tags": []
          },
          "execution_count": 12
        }
      ]
    },
    {
      "cell_type": "code",
      "metadata": {
        "id": "XR38seBcKJJ1"
      },
      "source": [
        "np.set_printoptions(linewidth=150) \n",
        "train_images[0] #이미지는 넘파이 배열에저장 되어있음,한픽셀은 0~255값"
      ],
      "execution_count": null,
      "outputs": []
    },
    {
      "cell_type": "code",
      "metadata": {
        "colab": {
          "base_uri": "https://localhost:8080/",
          "height": 54
        },
        "id": "SbMcORFmLhkM",
        "outputId": "f9a286b1-2870-4b26-a062-588496c2f17d"
      },
      "source": [
        "class_names=['T-shirts/top','Trowser','Pullover','Dress','Coat','Sandal','Shirt','Sweater','Bag','Ankle boot']\n",
        "print(train_labels[0])\n",
        "class_names[train_labels[0]] # 라벨에 대응하는 품목이름 출력"
      ],
      "execution_count": 14,
      "outputs": [
        {
          "output_type": "stream",
          "text": [
            "9\n"
          ],
          "name": "stdout"
        },
        {
          "output_type": "execute_result",
          "data": {
            "application/vnd.google.colaboratory.intrinsic+json": {
              "type": "string"
            },
            "text/plain": [
              "'Ankle boot'"
            ]
          },
          "metadata": {
            "tags": []
          },
          "execution_count": 14
        }
      ]
    },
    {
      "cell_type": "code",
      "metadata": {
        "colab": {
          "base_uri": "https://localhost:8080/",
          "height": 265
        },
        "id": "w76k2WxvNfeh",
        "outputId": "163bd5ce-b151-4f7e-8f47-a6096ac06215"
      },
      "source": [
        "plt.imshow(train_images[0])\n",
        "plt.show()"
      ],
      "execution_count": 15,
      "outputs": [
        {
          "output_type": "display_data",
          "data": {
            "image/png": "[encoded data removed]",
            "text/plain": [
              "<Figure size 432x288 with 1 Axes>"
            ]
          },
          "metadata": {
            "tags": [],
            "needs_background": "light"
          }
        }
      ]
    },
    {
      "cell_type": "code",
      "metadata": {
        "id": "ywpWn8VPloZr",
        "colab": {
          "base_uri": "https://localhost:8080/",
          "height": 149
        },
        "outputId": "f75c3d50-4a33-4817-8af6-afeec74d1f79"
      },
      "source": [
        "fig=plt.figure()\n",
        "ax1=fig.add_subplot(1,3,1)  # 1행3열의 1번째위치에 배치\n",
        "ax2=fig.add_subplot(1,3,2)\n",
        "ax3=fig.add_subplot(1,3,3)\n",
        "ax1.imshow(train_images[0]) #첫 번째 훈련용 데이터\n",
        "ax2.imshow(train_images[1]) #두 번째 훈련용 데이터\n",
        "ax3.imshow(train_images[2]) #세 번째 훈련용 데이터\n",
        "plt.show()"
      ],
      "execution_count": 16,
      "outputs": [
        {
          "output_type": "display_data",
          "data": {
            "image/png": "[encoded data removed]",
            "text/plain": [
              "<Figure size 432x288 with 3 Axes>"
            ]
          },
          "metadata": {
            "tags": [],
            "needs_background": "light"
          }
        }
      ]
    },
    {
      "cell_type": "markdown",
      "metadata": {
        "id": "JfF_cdyxETIZ"
      },
      "source": [
        "딥러닝  인공 신경망을 구축해 보자"
      ]
    },
    {
      "cell_type": "code",
      "metadata": {
        "id": "cMyWOZXXmtR8"
      },
      "source": [
        "# keras에 있는 Sequetial 모델을 만들어서 Flatten 한줄로 늘어놓고 DEnse층에 넣고 relu라는 비선형함수를 통과해서 나옴\n",
        "# 입력레이어, 히든 레이어, 출력 레이어로 구성\n",
        "model= keras.Sequential([\n",
        "  keras.layers.Flatten(input_shape=(28,28)),  # Flatten 계층,784(28*28)인 1차원 배열로 바꿔줌, 외부입력을 신경망으로 가져오는 역할\n",
        "  keras.layers.Dense(128,activation='relu'),  # 히든레이어,노드개수가 128개인 Dense 계층 활성화 relu활성화 함수 사용 계층을 더 추가해보자\n",
        "  keras.layers.Dense(10,activation='softmax') # 출력레이어, 신경망의 출력을 외부로 전달, Dense 계층  활성화 softmax 활성화 함수 사용\n",
        "]) #노드개수 10개의 노드 출력값의 합이 1이 되도록 조정 됨,"
      ],
      "execution_count": 17,
      "outputs": []
    },
    {
      "cell_type": "code",
      "metadata": {
        "id": "KlAmlfBdTzy9"
      },
      "source": [
        ""
      ],
      "execution_count": 17,
      "outputs": []
    },
    {
      "cell_type": "markdown",
      "metadata": {
        "id": "L5vAxUfbInQV"
      },
      "source": [
        "인공 신경망을 학습시켜보자 : 최적화와 에폭"
      ]
    },
    {
      "cell_type": "code",
      "metadata": {
        "id": "Y_0xzB0fFgT5"
      },
      "source": [
        "model.compile(optimizer='adam',                   #adam(adaptive moment estimation)최적화 기법 사용\n",
        "              loss='sparse_categorical_crossentropy',   #손실함수\n",
        "              metrics=['accuracy'])"
      ],
      "execution_count": 18,
      "outputs": []
    },
    {
      "cell_type": "code",
      "metadata": {
        "colab": {
          "base_uri": "https://localhost:8080/",
          "height": 0
        },
        "id": "JazBDH97HatS",
        "outputId": "3e5b0837-af67-4f6a-be09-40b12ddd8e3b"
      },
      "source": [
        "# 훈련 데이터 모음을 가지고 한 번 훈련을 실시하는 것을 에폭(epoch)이라고 부름 , 훈련을 5차례 실시\n",
        "# 에폭  단계마다 손실값과 정확다 출력됨, 훈련이 진행될수록 손실값은 줄어들고 예측의 정확도는 증가함\n",
        "model.fit(train_images,train_labels,epochs=5) "
      ],
      "execution_count": 19,
      "outputs": [
        {
          "output_type": "stream",
          "text": [
            "Epoch 1/5\n",
            "1875/1875 [==============================] - 5s 2ms/step - loss: 2.5628 - accuracy: 0.7158\n",
            "Epoch 2/5\n",
            "1875/1875 [==============================] - 4s 2ms/step - loss: 0.6251 - accuracy: 0.7907\n",
            "Epoch 3/5\n",
            "1875/1875 [==============================] - 4s 2ms/step - loss: 0.5384 - accuracy: 0.8188\n",
            "Epoch 4/5\n",
            "1875/1875 [==============================] - 4s 2ms/step - loss: 0.4987 - accuracy: 0.8306\n",
            "Epoch 5/5\n",
            "1875/1875 [==============================] - 4s 2ms/step - loss: 0.4883 - accuracy: 0.8374\n"
          ],
          "name": "stdout"
        },
        {
          "output_type": "execute_result",
          "data": {
            "text/plain": [
              "<tensorflow.python.keras.callbacks.History at 0x7f3a5fb70310>"
            ]
          },
          "metadata": {
            "tags": []
          },
          "execution_count": 19
        }
      ]
    },
    {
      "cell_type": "code",
      "metadata": {
        "colab": {
          "base_uri": "https://localhost:8080/",
          "height": 0
        },
        "id": "NsxsPymQHo2d",
        "outputId": "409488db-3d68-4050-ee7a-dfa18e8ef46c"
      },
      "source": [
        "#평가\n",
        "test_loss, test_acc = model.evaluate(test_images,test_labels,verbose=2)\n",
        "print(\"\\n 테스트 : \", test_acc)"
      ],
      "execution_count": 20,
      "outputs": [
        {
          "output_type": "stream",
          "text": [
            "313/313 - 0s - loss: 0.5186 - accuracy: 0.8368\n",
            "\n",
            " 테스트 :  0.8367999792098999\n"
          ],
          "name": "stdout"
        }
      ]
    },
    {
      "cell_type": "markdown",
      "metadata": {
        "id": "HCfz2dbdL6rU"
      },
      "source": [
        "학습된 신경망을 새 이미지에 적용해 보자"
      ]
    },
    {
      "cell_type": "code",
      "metadata": {
        "colab": {
          "base_uri": "https://localhost:8080/",
          "height": 283
        },
        "id": "KxxhRebBTtGN",
        "outputId": "299da03c-42a4-4091-c94d-e4b412223df2"
      },
      "source": [
        "img=test_images[33]\n",
        "label=test_labels[33]\n",
        "img.shape #테스트 이미지가 2차원 배열임을 확인함\n",
        "plt.imshow(test_images[33])"
      ],
      "execution_count": 35,
      "outputs": [
        {
          "output_type": "execute_result",
          "data": {
            "text/plain": [
              "<matplotlib.image.AxesImage at 0x7f3a5c22eed0>"
            ]
          },
          "metadata": {
            "tags": []
          },
          "execution_count": 35
        },
        {
          "output_type": "display_data",
          "data": {
            "image/png": "[encoded data removed]",
            "text/plain": [
              "<Figure size 432x288 with 1 Axes>"
            ]
          },
          "metadata": {
            "tags": [],
            "needs_background": "light"
          }
        }
      ]
    },
    {
      "cell_type": "code",
      "metadata": {
        "id": "QXd1mVXaYRU8",
        "colab": {
          "base_uri": "https://localhost:8080/",
          "height": 0
        },
        "outputId": "62fc7801-ae29-472e-c7a3-b90f367cf555"
      },
      "source": [
        "img1=np.around(test_images[33]/255,1)\n",
        "img1"
      ],
      "execution_count": 36,
      "outputs": [
        {
          "output_type": "execute_result",
          "data": {
            "text/plain": [
              "array([[0. , 0. , 0. , 0. , 0. , 0. , 0. , 0. , 0. , 0.1, 0. , 0. , 0. , 0. , 0. , 0. , 0. , 0. , 0.2, 0. , 0. , 0. , 0. , 0. , 0. , 0. , 0. , 0. ],\n",
              "       [0. , 0. , 0. , 0. , 0. , 0. , 0. , 0. , 0.2, 0.6, 0.3, 0. , 0. , 0. , 0. , 0. , 0. , 0. , 0.6, 0.5, 0. , 0. , 0. , 0. , 0. , 0. , 0. , 0. ],\n",
              "       [0. , 0. , 0. , 0. , 0. , 0. , 0. , 0. , 0. , 0. , 0. , 0. , 0. , 0. , 0. , 0. , 0. , 0. , 0.2, 0.1, 0.3, 0. , 0. , 0. , 0. , 0. , 0. , 0. ],\n",
              "       [0. , 0. , 0. , 0. , 0. , 0. , 0. , 0.2, 0.2, 0.4, 0.7, 0.8, 0.9, 0.9, 0.9, 0.8, 0.9, 0.7, 0.7, 0.2, 0.5, 0. , 0. , 0. , 0. , 0. , 0. , 0. ],\n",
              "       [0. , 0. , 0. , 0. , 0. , 0. , 0. , 0.6, 0.9, 0.9, 0.8, 0.8, 0.7, 0.7, 0.8, 0.7, 0.7, 0.8, 0.8, 0.9, 0.8, 0.1, 0. , 0. , 0. , 0. , 0. , 0. ],\n",
              "       [0. , 0. , 0. , 0. , 0. , 0. , 0. , 0.7, 0.8, 0.7, 0.8, 0.9, 0.5, 0.7, 0.8, 0.9, 0.6, 0.6, 0.8, 0.9, 0.9, 0.2, 0. , 0. , 0. , 0. , 0. , 0. ],\n",
              "       [0. , 0. , 0. , 0. , 0. , 0. , 0. , 0.7, 0.8, 0.9, 0.9, 0.8, 0.6, 0.8, 0.6, 0.7, 0.9, 0.8, 0.8, 0.8, 0.8, 0.3, 0. , 0. , 0. , 0. , 0. , 0. ],\n",
              "       [0. , 0. , 0. , 0. , 0. , 0. , 0. , 0.8, 0.9, 0.8, 0.8, 0.9, 0.7, 0.7, 0.7, 0.8, 0.8, 0.8, 0.8, 0.9, 0.8, 0.4, 0. , 0. , 0. , 0. , 0. , 0. ],\n",
              "       [0. , 0. , 0. , 0. , 0. , 0. , 0. , 1. , 0.8, 0.6, 0.7, 0.9, 0.8, 0.9, 0.9, 0.7, 0.8, 0.8, 0.7, 1. , 0.7, 0.4, 0. , 0. , 0. , 0. , 0. , 0. ],\n",
              "       [0. , 0. , 0. , 0. , 0. , 0. , 0. , 0.9, 0.7, 0.5, 0.6, 0.8, 0.7, 0.9, 0.8, 0.6, 0.8, 0.7, 0.7, 1. , 0.8, 0.5, 0. , 0. , 0. , 0. , 0. , 0. ],\n",
              "       [0. , 0. , 0. , 0. , 0. , 0. , 0.2, 0.8, 0.8, 0.6, 0.8, 0.9, 0.6, 0.7, 0.8, 0.6, 0.8, 0.9, 0.6, 0.9, 0.8, 0.6, 0. , 0. , 0. , 0. , 0. , 0. ],\n",
              "       [0. , 0. , 0. , 0. , 0. , 0. , 0.6, 0.8, 0.9, 0.9, 0.8, 0.6, 0.7, 0.8, 0.9, 0.6, 0.7, 0.8, 0.5, 0.7, 0.8, 0.9, 0. , 0. , 0. , 0. , 0. , 0. ],\n",
              "       [0. , 0. , 0. , 0. , 0. , 0. , 0.9, 0.9, 0.9, 0.9, 0.8, 0.8, 0.8, 0.9, 0.9, 0.5, 0.7, 0.8, 0.9, 1. , 0.7, 0.9, 0.2, 0. , 0. , 0. , 0. , 0. ],\n",
              "       [0. , 0. , 0. , 0. , 0. , 0. , 0.8, 0.9, 0.9, 0.8, 0.6, 0.9, 1. , 0.7, 0.8, 1. , 0.8, 0.8, 0.8, 0.9, 0.8, 0.8, 0.4, 0. , 0. , 0. , 0. , 0. ],\n",
              "       [0. , 0. , 0. , 0. , 0. , 0.2, 0.9, 0.8, 1. , 0.8, 0.6, 0.6, 0.9, 0.8, 0.6, 0.9, 1. , 0.6, 0.8, 1. , 0.9, 0.9, 0.7, 0. , 0. , 0. , 0. , 0. ],\n",
              "       [0. , 0. , 0. , 0. , 0. , 0.1, 0.3, 0. , 0.1, 0.8, 0.7, 0.6, 0.8, 0.9, 0.5, 0.8, 0.8, 0.7, 0.8, 0.4, 0. , 0. , 0. , 0. , 0. , 0. , 0. , 0. ],\n",
              "       [0. , 0. , 0. , 0. , 0. , 0. , 0. , 0. , 0. , 0.9, 0.8, 0.9, 0.9, 0.9, 0.7, 1. , 0.7, 0.7, 0.9, 0.3, 0. , 0. , 0. , 0. , 0. , 0. , 0. , 0. ],\n",
              "       [0. , 0. , 0. , 0. , 0. , 0. , 0. , 0. , 0. , 1. , 0.9, 0.7, 0.8, 0.8, 0.9, 1. , 0.7, 0.5, 0.8, 0.5, 0. , 0. , 0. , 0. , 0. , 0. , 0. , 0. ],\n",
              "       [0. , 0. , 0. , 0. , 0. , 0. , 0. , 0. , 0. , 0.8, 0.8, 0.7, 0.7, 0.6, 0.8, 0.9, 0.7, 0.7, 0.8, 0.5, 0. , 0. , 0. , 0. , 0. , 0. , 0. , 0. ],\n",
              "       [0. , 0. , 0. , 0. , 0. , 0. , 0. , 0. , 0.1, 0.9, 0.8, 0.8, 0.8, 0.8, 0.8, 1. , 0.9, 0.8, 0.9, 0.5, 0. , 0. , 0. , 0. , 0. , 0. , 0. , 0. ],\n",
              "       [0. , 0. , 0. , 0. , 0. , 0. , 0. , 0. , 0.1, 0.9, 0.8, 0.9, 0.8, 1. , 0.8, 0.9, 0.9, 0.9, 0.9, 0.6, 0. , 0. , 0. , 0. , 0. , 0. , 0. , 0. ],\n",
              "       [0. , 0. , 0. , 0. , 0. , 0. , 0. , 0. , 0.3, 0.9, 0.8, 0.9, 0.9, 0.9, 0.8, 0.9, 0.7, 0.8, 0.9, 0.9, 0. , 0. , 0. , 0. , 0. , 0. , 0. , 0. ],\n",
              "       [0. , 0. , 0. , 0. , 0. , 0. , 0. , 0. , 0.3, 0.9, 0.9, 0.8, 0.7, 1. , 0.7, 1. , 0.8, 0.8, 0.8, 1. , 0. , 0. , 0. , 0. , 0. , 0. , 0. , 0. ],\n",
              "       [0. , 0. , 0. , 0. , 0. , 0. , 0. , 0. , 0.4, 1. , 0.9, 0.8, 0.8, 0.9, 0.8, 1. , 0.6, 0.7, 0.9, 0.9, 0. , 0. , 0. , 0. , 0. , 0. , 0. , 0. ],\n",
              "       [0. , 0. , 0. , 0. , 0. , 0. , 0. , 0. , 0.6, 1. , 0.9, 0.8, 0.9, 0.9, 0.8, 1. , 0.7, 0.8, 0.9, 0.8, 0. , 0. , 0. , 0. , 0. , 0. , 0. , 0. ],\n",
              "       [0. , 0. , 0. , 0. , 0. , 0. , 0. , 0. , 0.5, 0.9, 0.9, 0.9, 0.8, 1. , 0.9, 0.9, 0.9, 0.9, 0.8, 0.8, 0. , 0. , 0. , 0. , 0. , 0. , 0. , 0. ],\n",
              "       [0. , 0. , 0. , 0. , 0. , 0. , 0. , 0. , 0.9, 0.9, 0.9, 1. , 1. , 0.9, 0.9, 1. , 1. , 0.9, 0.9, 0.9, 0.1, 0. , 0. , 0. , 0. , 0. , 0. , 0. ],\n",
              "       [0. , 0. , 0. , 0. , 0. , 0. , 0. , 0. , 0.4, 0.4, 0.2, 0. , 0.1, 0.2, 0.3, 0.1, 0.2, 0.2, 0.4, 0.7, 0.1, 0. , 0. , 0. , 0. , 0. , 0. , 0. ]])"
            ]
          },
          "metadata": {
            "tags": []
          },
          "execution_count": 36
        }
      ]
    },
    {
      "cell_type": "code",
      "metadata": {
        "id": "CzPQ34leUbMd",
        "colab": {
          "base_uri": "https://localhost:8080/",
          "height": 0
        },
        "outputId": "33ec0fbf-c980-4478-d75a-8eefe57fc441"
      },
      "source": [
        "img=np.expand_dims(img,axis=0)# 0번째 차원 추가\n",
        "img.shape"
      ],
      "execution_count": 37,
      "outputs": [
        {
          "output_type": "execute_result",
          "data": {
            "text/plain": [
              "(1, 28, 28)"
            ]
          },
          "metadata": {
            "tags": []
          },
          "execution_count": 37
        }
      ]
    },
    {
      "cell_type": "code",
      "metadata": {
        "colab": {
          "base_uri": "https://localhost:8080/",
          "height": 0
        },
        "id": "UDsg40HWGOf5",
        "outputId": "f7da3a25-8a70-4bc4-b5ae-6a0b70a28127"
      },
      "source": [
        "img"
      ],
      "execution_count": 39,
      "outputs": [
        {
          "output_type": "execute_result",
          "data": {
            "text/plain": [
              "array([[[  0,   0,   0,   0,   0,   0,   1,   0,   0,  27,  10,   0,   2,   2,   1,   2,   1,   0,  47,   0,   0,   3,   0,   0,   0,   0,   0,\n",
              "           0],\n",
              "        [  0,   0,   0,   0,   0,   0,   1,   0,  59, 157,  77,   0,   0,   0,   0,   0,   0,   0, 160, 133,   0,   0,   2,   0,   0,   0,   0,\n",
              "           0],\n",
              "        [  0,   0,   0,   0,   0,   0,   0,   5,   2,   0,   7,  12,   0,   0,   0,   0,   0,   0,  46,  13,  75,   0,   3,   0,   0,   0,   0,\n",
              "           0],\n",
              "        [  0,   0,   0,   0,   0,   3,   0,  39,  52, 114, 171, 204, 218, 229, 239, 200, 240, 190, 179,  46, 118,   5,   0,   0,   0,   0,   0,\n",
              "           0],\n",
              "        [  0,   0,   0,   0,   0,   1,   0, 152, 237, 225, 206, 201, 190, 187, 213, 185, 170, 200, 209, 227, 211,  33,   0,   0,   0,   0,   0,\n",
              "           0],\n",
              "        [  0,   0,   0,   0,   0,   0,   0, 186, 211, 190, 199, 218, 130, 177, 200, 224, 153, 150, 214, 223, 233,  46,   0,   0,   0,   0,   0,\n",
              "           0],\n",
              "        [  0,   0,   0,   0,   0,   0,   0, 190, 216, 227, 237, 210, 154, 193, 149, 186, 223, 203, 206, 209, 206,  81,   0,   0,   0,   0,   0,\n",
              "           0],\n",
              "        [  0,   0,   0,   0,   0,   0,   0, 197, 229, 213, 210, 226, 168, 168, 176, 212, 216, 195, 209, 230, 193,  96,   0,   0,   0,   0,   0,\n",
              "           0],\n",
              "        [  0,   0,   0,   0,   0,   0,   0, 253, 210, 145, 183, 218, 215, 229, 227, 180, 204, 208, 187, 245, 187, 111,   0,   0,   0,   0,   0,\n",
              "           0],\n",
              "        [  0,   0,   0,   0,   0,   0,   4, 233, 187, 139, 158, 214, 176, 222, 199, 149, 202, 181, 191, 247, 193, 125,   0,   0,   0,   0,   0,\n",
              "           0],\n",
              "        [  0,   0,   0,   0,   0,   0,  51, 196, 206, 160, 202, 224, 148, 179, 205, 143, 202, 225, 146, 240, 214, 157,   0,   0,   0,   0,   0,\n",
              "           0],\n",
              "        [  0,   0,   0,   0,   0,   0, 151, 213, 228, 218, 215, 143, 172, 204, 222, 147, 173, 199, 138, 187, 204, 224,   4,   0,   0,   0,   0,\n",
              "           0],\n",
              "        [  0,   0,   0,   0,   0,   0, 234, 224, 234, 241, 207, 195, 193, 233, 228, 134, 181, 204, 218, 244, 188, 224,  55,   0,   0,   0,   0,\n",
              "           0],\n",
              "        [  0,   0,   0,   0,   0,   0, 214, 218, 226, 215, 159, 217, 244, 191, 197, 246, 206, 203, 209, 234, 211, 209, 107,   0,   0,   0,   0,\n",
              "           0],\n",
              "        [  0,   0,   0,   0,   0,  55, 230, 214, 247, 213, 150, 155, 226, 206, 156, 218, 244, 165, 196, 244, 224, 221, 172,   0,   0,   0,   0,\n",
              "           0],\n",
              "        [  0,   0,   0,   0,   0,  16,  78,   0,  21, 194, 174, 153, 200, 220, 138, 210, 199, 166, 213,  98,   0,   0,   7,   0,   0,   0,   0,\n",
              "           0],\n",
              "        [  0,   0,   0,   0,   0,   0,   0,   0,   0, 234, 207, 230, 225, 230, 175, 249, 185, 187, 231,  88,   0,   0,   0,   0,   0,   0,   0,\n",
              "           0],\n",
              "        [  0,   0,   0,   0,   0,   3,   6,   0,   0, 249, 224, 177, 216, 216, 229, 246, 190, 120, 205, 116,   0,   9,   2,   0,   0,   0,   0,\n",
              "           0],\n",
              "        [  0,   0,   0,   0,   0,   0,   2,   0,  12, 207, 203, 166, 169, 156, 204, 234, 172, 176, 213, 126,   0,   4,   0,   0,   0,   0,   0,\n",
              "           0],\n",
              "        [  0,   0,   0,   0,   0,   0,   1,   0,  14, 220, 213, 203, 198, 210, 209, 248, 230, 211, 236, 122,   0,   2,   0,   0,   0,   0,   0,\n",
              "           0],\n",
              "        [  0,   0,   0,   0,   0,   0,   2,   0,  28, 219, 203, 236, 193, 247, 214, 227, 236, 221, 224, 147,   0,   0,   0,   0,   0,   0,   0,\n",
              "           0],\n",
              "        [  0,   0,   0,   0,   0,   0,   4,   0,  77, 234, 213, 237, 228, 226, 194, 238, 187, 204, 233, 232,   0,   0,   1,   0,   0,   0,   0,\n",
              "           0],\n",
              "        [  0,   0,   0,   0,   0,   0,   3,   0,  81, 223, 217, 210, 167, 255, 191, 249, 200, 216, 215, 246,   0,   0,   1,   0,   0,   0,   0,\n",
              "           0],\n",
              "        [  0,   0,   0,   0,   0,   0,   3,   0, 112, 243, 222, 208, 206, 240, 215, 255, 165, 181, 222, 241,   0,   0,   2,   0,   0,   0,   0,\n",
              "           0],\n",
              "        [  0,   0,   0,   0,   0,   0,   0,   0, 148, 244, 223, 205, 231, 217, 209, 255, 175, 207, 225, 199,   0,   0,   2,   0,   0,   0,   0,\n",
              "           0],\n",
              "        [  0,   0,   0,   0,   0,   0,   0,   0, 131, 220, 226, 222, 204, 243, 220, 240, 222, 224, 215, 195,   0,   0,   3,   0,   0,   0,   0,\n",
              "           0],\n",
              "        [  0,   0,   0,   0,   0,   0,   0,   0, 219, 232, 227, 255, 243, 240, 224, 255, 245, 223, 232, 230,  26,   0,   5,   0,   0,   0,   0,\n",
              "           0],\n",
              "        [  0,   0,   0,   0,   0,   1,   0,   0,  92, 113,  55,   1,  23,  48,  79,  31,  54,  46, 106, 173,  13,   0,   4,   0,   0,   0,   0,\n",
              "           0]]], dtype=uint8)"
            ]
          },
          "metadata": {
            "tags": []
          },
          "execution_count": 39
        }
      ]
    },
    {
      "cell_type": "code",
      "metadata": {
        "id": "dG1wvIKMGS_j"
      },
      "source": [
        ""
      ],
      "execution_count": null,
      "outputs": []
    },
    {
      "cell_type": "code",
      "metadata": {
        "colab": {
          "base_uri": "https://localhost:8080/",
          "height": 0
        },
        "id": "ktLQltEqU8jH",
        "outputId": "9871464a-2cd2-412b-8e2c-e5c6b86b39a2"
      },
      "source": [
        "test_images.shape"
      ],
      "execution_count": 24,
      "outputs": [
        {
          "output_type": "execute_result",
          "data": {
            "text/plain": [
              "(10000, 28, 28)"
            ]
          },
          "metadata": {
            "tags": []
          },
          "execution_count": 24
        }
      ]
    },
    {
      "cell_type": "code",
      "metadata": {
        "colab": {
          "base_uri": "https://localhost:8080/",
          "height": 0
        },
        "id": "7w2pgEflVSSR",
        "outputId": "e2369b05-9da4-4cf4-8867-aab0ff551441"
      },
      "source": [
        "\n",
        "\n",
        "predic=model.predict(img)\n",
        "print(predic)\n",
        "print(np.argmax(predic))\n",
        "print(class_names[np.argmax(predic)])"
      ],
      "execution_count": 26,
      "outputs": [
        {
          "output_type": "stream",
          "text": [
            "[[3.4996620e-03 1.7480196e-02 2.4002756e-03 9.4990981e-01 2.3035295e-02 7.7203261e-12 2.3733389e-03 3.9655382e-18 1.3013757e-03 1.4107646e-21]]\n",
            "3\n",
            "Dress\n"
          ],
          "name": "stdout"
        }
      ]
    },
    {
      "cell_type": "code",
      "metadata": {
        "colab": {
          "base_uri": "https://localhost:8080/",
          "height": 283
        },
        "id": "aavI7LRVMdtf",
        "outputId": "f577a596-1761-4ebc-c85f-d177eec839c0"
      },
      "source": [
        "import numpy as np\n",
        "randIdx=np.random.randint(0,1000) #0에서 1000사이 임의수 발생시켜 테스트 이미지 선택\n",
        "plt.imshow(test_images[randIdx])"
      ],
      "execution_count": 27,
      "outputs": [
        {
          "output_type": "execute_result",
          "data": {
            "text/plain": [
              "<matplotlib.image.AxesImage at 0x7f3a5cb1ee90>"
            ]
          },
          "metadata": {
            "tags": []
          },
          "execution_count": 27
        },
        {
          "output_type": "display_data",
          "data": {
            "image/png": "[encoded data removed]",
            "text/plain": [
              "<Figure size 432x288 with 1 Axes>"
            ]
          },
          "metadata": {
            "tags": [],
            "needs_background": "light"
          }
        }
      ]
    },
    {
      "cell_type": "code",
      "metadata": {
        "colab": {
          "base_uri": "https://localhost:8080/",
          "height": 0
        },
        "id": "MkICOEvIJacU",
        "outputId": "61b2b40c-d19a-4822-87e2-53915a754c5a"
      },
      "source": [
        "yhat= model.predict(test_images[randIdx][np.newaxis,:,:])\n",
        "print(yhat)\n",
        "yhat=np.argmax(yhat) # 10개의 출력 값중 가장 큰 값을 출력\n",
        "print(yhat)\n",
        "\n"
      ],
      "execution_count": 28,
      "outputs": [
        {
          "output_type": "stream",
          "text": [
            "[[3.4996620e-03 1.7480196e-02 2.4002756e-03 9.4990981e-01 2.3035295e-02 7.7203261e-12 2.3733389e-03 3.9655382e-18 1.3013757e-03 1.4107646e-21]]\n",
            "3\n"
          ],
          "name": "stdout"
        }
      ]
    }
  ]
}